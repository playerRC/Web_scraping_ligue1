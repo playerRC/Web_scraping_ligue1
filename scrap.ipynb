{
 "cells": [
  {
   "cell_type": "code",
   "execution_count": 1,
   "metadata": {},
   "outputs": [],
   "source": [
    "import requests\n",
    "from bs4 import BeautifulSoup"
   ]
  },
  {
   "cell_type": "code",
   "execution_count": 2,
   "metadata": {},
   "outputs": [],
   "source": [
    "from lxml import etree"
   ]
  },
  {
   "cell_type": "code",
   "execution_count": 3,
   "metadata": {},
   "outputs": [],
   "source": [
    "def Xpath(url,path):\n",
    "  Dict_Headers = ({'User-Agent':\n",
    "      'Mozilla/5.0 (X11; Linux x86_64) AppleWebKit/537.36 \\\n",
    "      (KHTML, like Gecko) Chrome/44.0.2403.157 Safari/537.36',\\\n",
    "      'Accept-Language': 'en-US, en;q=0.5'})\n",
    "  # Gets the requried data https browser's address bar\n",
    "  webPage = requests.get(url,Dict_Headers)\n",
    "  # Creating a soup Object from the html content\n",
    "  Scraping = BeautifulSoup(webPage.content, \"html.parser\") \n",
    "  # Conveting Soup object to etree object for Xpath processing\n",
    "  documentObjectModel = etree.HTML(str(Scraping)) \n",
    "  return (documentObjectModel.xpath(path)[0].text)"
   ]
  },
  {
   "cell_type": "code",
   "execution_count": 15,
   "metadata": {},
   "outputs": [],
   "source": [
    "def nbListes(url):\n",
    "    r = requests.get(url)\n",
    "    soup = BeautifulSoup(r.content, 'html.parser')\n",
    "    s = soup.find('div', class_='calendar-widget-container')\n",
    "    s2 = s.find_all('ul')\n",
    "    return len(s2)\n",
    "\n",
    "def nbElementsDansChaqueListe(url):\n",
    "    l = []\n",
    "    r = requests.get(url)\n",
    "    soup = BeautifulSoup(r.content, 'html.parser')\n",
    "    s = soup.find('div', class_='calendar-widget-container')\n",
    "    s2 = s.find_all('ul')\n",
    "    for ul in s2:\n",
    "        s3 = ul.find_all('li')\n",
    "        l.append(len(s3))\n",
    "    return l\n",
    "        \n",
    "def homeTeam(url):\n",
    "    l = []\n",
    "    for i in range(1, nbListes(url)+1):\n",
    "        for j in range(1, nbElementsDansChaqueListe(url)[i-1]+1):\n",
    "            l.append(Xpath(url, f'/html/body/main/div[3]/div[2]/div/div[2]/ul[{i}]/li[{j}]/a/div[1]/div/span[1]'))\n",
    "    return l\n",
    "\n",
    "def awayTeam(url):\n",
    "    l = []\n",
    "    for i in range(1, nbListes(url)+1):\n",
    "        for j in range(1, nbElementsDansChaqueListe(url)[i-1]+1):\n",
    "            l.append(Xpath(url, f'/html/body/main/div[3]/div[2]/div/div[2]/ul[{i}]/li[{j}]/a/div[3]/div/span[1]'))\n",
    "    return l"
   ]
  },
  {
   "cell_type": "code",
   "execution_count": 18,
   "metadata": {},
   "outputs": [],
   "source": [
    "def homeGoal(url):\n",
    "    l = []\n",
    "    for i in range(1, nbListes(url)+1):\n",
    "        for j in range(1, nbElementsDansChaqueListe(url)[i-1]+1):\n",
    "            if Xpath(url, f'/html/body/main/div[3]/div[2]/div/div[2]/ul[{i}]/li[{j}]/a/div[2]/span/span[3]') == None:\n",
    "                l.append(None)\n",
    "            else:\n",
    "                l.append(int(Xpath(url, f'/html/body/main/div[3]/div[2]/div/div[2]/ul[{i}]/li[{j}]/a/div[2]/span/span[3]')))\n",
    "    return l\n",
    "\n",
    "def awayGoal(url):\n",
    "    l = []\n",
    "    for i in range(1, nbListes(url)+1):\n",
    "        for j in range(1, nbElementsDansChaqueListe(url)[i-1]+1):\n",
    "            if Xpath(url, f'/html/body/main/div[3]/div[2]/div/div[2]/ul[{i}]/li[{j}]/a/div[2]/span/span[3]') == None:\n",
    "                l.append(None)\n",
    "            else:\n",
    "                l.append(int(Xpath(url, f'/html/body/main/div[3]/div[2]/div/div[2]/ul[{i}]/li[{j}]/a/div[2]/span/span[3]')))\n",
    "    return l"
   ]
  },
  {
   "cell_type": "code",
   "execution_count": 19,
   "metadata": {},
   "outputs": [],
   "source": [
    "import csv"
   ]
  },
  {
   "cell_type": "code",
   "execution_count": null,
   "metadata": {},
   "outputs": [],
   "source": [
    "header = ['Season','Matchday','HomeTeam', 'AwayTeam', 'HTG', 'ATG']\n",
    "with open('all_ligue1_matches.csv', 'w', encoding='UTF8', newline='') as f:\n",
    "    fwriter = csv.writer(f)\n",
    "    fwriter.writerow(header)\n",
    "    for annee in range(1993, 2022):\n",
    "        if annee == 2019:\n",
    "            # annee covid seulement 28 journees terminees\n",
    "            for i in range(1,29):\n",
    "                url = f'https://www.ligue1.fr/calendrier-resultats?seasonId=2019-2020&matchDay={i}'\n",
    "                for j in range(0,sum(nbElementsDansChaqueListe(url))):\n",
    "                    fwriter.writerow(['2019-2020', i, homeTeam(url)[j], awayTeam(url)[j], homeGoal(url)[j], awayGoal(url)[j]])\n",
    "        elif annee == 1997 or annee == 1998 or annee == 1999 or annee == 2000 or annee == 2001:\n",
    "            # annees ligue 1 composee de 18 equipes donc 34 journees\n",
    "            for i in range(1,35):\n",
    "                url = f'https://www.ligue1.fr/calendrier-resultats?seasonId={annee}-{annee+1}&matchDay={i}'\n",
    "                for j in range(0,sum(nbElementsDansChaqueListe(url))):\n",
    "                    fwriter.writerow([f'{annee}-{annee+1}', i, homeTeam(url)[j], awayTeam(url)[j], homeGoal(url)[j], awayGoal(url)[j]])\n",
    "        elif annee == 2021:\n",
    "            # annee actuel seulement 35 journees terminees le 7 mai 2022\n",
    "            for i in range(1,36):\n",
    "                url = f'https://www.ligue1.fr/calendrier-resultats?seasonId=2021-2022&matchDay={i}'\n",
    "                for j in range(0,sum(nbElementsDansChaqueListe(url))):\n",
    "                    fwriter.writerow(['2021-2022', i, homeTeam(url)[j], awayTeam(url)[j], homeGoal(url)[j], awayGoal(url)[j]])\n",
    "        else:\n",
    "            for i in range(1,39):\n",
    "                url = f'https://www.ligue1.fr/calendrier-resultats?seasonId={annee}-{annee+1}&matchDay={i}'\n",
    "                for j in range(0,sum(nbElementsDansChaqueListe(url))):\n",
    "                    fwriter.writerow([f'{annee}-{annee+1}', i, homeTeam(url)[j], awayTeam(url)[j], homeGoal(url)[j], awayGoal(url)[j]])"
   ]
  }
 ],
 "metadata": {
  "kernelspec": {
   "display_name": "Python 3",
   "language": "python",
   "name": "python3"
  },
  "language_info": {
   "codemirror_mode": {
    "name": "ipython",
    "version": 3
   },
   "file_extension": ".py",
   "mimetype": "text/x-python",
   "name": "python",
   "nbconvert_exporter": "python",
   "pygments_lexer": "ipython3",
   "version": "3.8.8"
  }
 },
 "nbformat": 4,
 "nbformat_minor": 2
}
